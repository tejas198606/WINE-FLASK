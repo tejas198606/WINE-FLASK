{
 "cells": [
  {
   "cell_type": "code",
   "execution_count": 38,
   "metadata": {},
   "outputs": [],
   "source": [
    "import pandas as pd\n",
    "import numpy as np\n",
    "import matplotlib.pyplot as plt\n",
    "%matplotlib inline\n",
    "import seaborn as sn \n",
    "from datetime import datetime\n",
    "from pandas import Series\n",
    "import pickle"
   ]
  },
  {
   "cell_type": "code",
   "execution_count": 2,
   "metadata": {},
   "outputs": [
    {
     "data": {
      "text/html": [
       "<div>\n",
       "<style scoped>\n",
       "    .dataframe tbody tr th:only-of-type {\n",
       "        vertical-align: middle;\n",
       "    }\n",
       "\n",
       "    .dataframe tbody tr th {\n",
       "        vertical-align: top;\n",
       "    }\n",
       "\n",
       "    .dataframe thead th {\n",
       "        text-align: right;\n",
       "    }\n",
       "</style>\n",
       "<table border=\"1\" class=\"dataframe\">\n",
       "  <thead>\n",
       "    <tr style=\"text-align: right;\">\n",
       "      <th></th>\n",
       "      <th>fixedacidity</th>\n",
       "      <th>volatileacidity</th>\n",
       "      <th>citricacid</th>\n",
       "      <th>residualsugar</th>\n",
       "      <th>chlorides</th>\n",
       "      <th>freesulfurdioxide</th>\n",
       "      <th>totalsulfurdioxide</th>\n",
       "      <th>density</th>\n",
       "      <th>pH</th>\n",
       "      <th>sulphates</th>\n",
       "      <th>alcohol</th>\n",
       "      <th>quality</th>\n",
       "    </tr>\n",
       "  </thead>\n",
       "  <tbody>\n",
       "    <tr>\n",
       "      <td>0</td>\n",
       "      <td>7.4</td>\n",
       "      <td>0.70</td>\n",
       "      <td>0.0</td>\n",
       "      <td>1.9</td>\n",
       "      <td>0.076</td>\n",
       "      <td>11.0</td>\n",
       "      <td>34.0</td>\n",
       "      <td>0.9978</td>\n",
       "      <td>3.51</td>\n",
       "      <td>0.56</td>\n",
       "      <td>9.4</td>\n",
       "      <td>5</td>\n",
       "    </tr>\n",
       "    <tr>\n",
       "      <td>1</td>\n",
       "      <td>7.8</td>\n",
       "      <td>0.88</td>\n",
       "      <td>0.0</td>\n",
       "      <td>2.6</td>\n",
       "      <td>0.098</td>\n",
       "      <td>25.0</td>\n",
       "      <td>67.0</td>\n",
       "      <td>0.9968</td>\n",
       "      <td>3.20</td>\n",
       "      <td>0.68</td>\n",
       "      <td>9.8</td>\n",
       "      <td>5</td>\n",
       "    </tr>\n",
       "  </tbody>\n",
       "</table>\n",
       "</div>"
      ],
      "text/plain": [
       "   fixedacidity  volatileacidity  citricacid  residualsugar  chlorides  \\\n",
       "0           7.4             0.70         0.0            1.9      0.076   \n",
       "1           7.8             0.88         0.0            2.6      0.098   \n",
       "\n",
       "   freesulfurdioxide  totalsulfurdioxide  density    pH  sulphates  alcohol  \\\n",
       "0               11.0                34.0   0.9978  3.51       0.56      9.4   \n",
       "1               25.0                67.0   0.9968  3.20       0.68      9.8   \n",
       "\n",
       "   quality  \n",
       "0        5  \n",
       "1        5  "
      ]
     },
     "execution_count": 2,
     "metadata": {},
     "output_type": "execute_result"
    }
   ],
   "source": [
    "df=pd.read_csv(\"wine.csv\")\n",
    "df.head(2)"
   ]
  },
  {
   "cell_type": "code",
   "execution_count": 3,
   "metadata": {},
   "outputs": [
    {
     "data": {
      "text/plain": [
       "Index(['fixedacidity', 'volatileacidity', 'citricacid', 'residualsugar',\n",
       "       'chlorides', 'freesulfurdioxide', 'totalsulfurdioxide', 'density', 'pH',\n",
       "       'sulphates', 'alcohol', 'quality'],\n",
       "      dtype='object')"
      ]
     },
     "execution_count": 3,
     "metadata": {},
     "output_type": "execute_result"
    }
   ],
   "source": [
    "df.columns"
   ]
  },
  {
   "cell_type": "code",
   "execution_count": 4,
   "metadata": {},
   "outputs": [
    {
     "data": {
      "text/plain": [
       "fixedacidity          float64\n",
       "volatileacidity       float64\n",
       "citricacid            float64\n",
       "residualsugar         float64\n",
       "chlorides             float64\n",
       "freesulfurdioxide     float64\n",
       "totalsulfurdioxide    float64\n",
       "density               float64\n",
       "pH                    float64\n",
       "sulphates             float64\n",
       "alcohol               float64\n",
       "quality                 int64\n",
       "dtype: object"
      ]
     },
     "execution_count": 4,
     "metadata": {},
     "output_type": "execute_result"
    }
   ],
   "source": [
    "df.dtypes"
   ]
  },
  {
   "cell_type": "code",
   "execution_count": 5,
   "metadata": {},
   "outputs": [
    {
     "data": {
      "text/plain": [
       "(1599, 12)"
      ]
     },
     "execution_count": 5,
     "metadata": {},
     "output_type": "execute_result"
    }
   ],
   "source": [
    "df.shape"
   ]
  },
  {
   "cell_type": "code",
   "execution_count": 7,
   "metadata": {},
   "outputs": [
    {
     "data": {
      "text/html": [
       "<div>\n",
       "<style scoped>\n",
       "    .dataframe tbody tr th:only-of-type {\n",
       "        vertical-align: middle;\n",
       "    }\n",
       "\n",
       "    .dataframe tbody tr th {\n",
       "        vertical-align: top;\n",
       "    }\n",
       "\n",
       "    .dataframe thead th {\n",
       "        text-align: right;\n",
       "    }\n",
       "</style>\n",
       "<table border=\"1\" class=\"dataframe\">\n",
       "  <thead>\n",
       "    <tr style=\"text-align: right;\">\n",
       "      <th></th>\n",
       "      <th>fixedacidity</th>\n",
       "      <th>volatileacidity</th>\n",
       "      <th>citricacid</th>\n",
       "      <th>residualsugar</th>\n",
       "      <th>chlorides</th>\n",
       "      <th>freesulfurdioxide</th>\n",
       "      <th>totalsulfurdioxide</th>\n",
       "      <th>density</th>\n",
       "      <th>pH</th>\n",
       "      <th>sulphates</th>\n",
       "      <th>alcohol</th>\n",
       "      <th>quality</th>\n",
       "    </tr>\n",
       "  </thead>\n",
       "  <tbody>\n",
       "    <tr>\n",
       "      <td>count</td>\n",
       "      <td>1599.000000</td>\n",
       "      <td>1599.000000</td>\n",
       "      <td>1599.000000</td>\n",
       "      <td>1599.000000</td>\n",
       "      <td>1599.000000</td>\n",
       "      <td>1599.000000</td>\n",
       "      <td>1599.000000</td>\n",
       "      <td>1599.000000</td>\n",
       "      <td>1599.000000</td>\n",
       "      <td>1599.000000</td>\n",
       "      <td>1599.000000</td>\n",
       "      <td>1599.000000</td>\n",
       "    </tr>\n",
       "    <tr>\n",
       "      <td>mean</td>\n",
       "      <td>8.319637</td>\n",
       "      <td>0.527821</td>\n",
       "      <td>0.270976</td>\n",
       "      <td>2.538806</td>\n",
       "      <td>0.087467</td>\n",
       "      <td>15.874922</td>\n",
       "      <td>46.467792</td>\n",
       "      <td>0.996747</td>\n",
       "      <td>3.311113</td>\n",
       "      <td>0.658149</td>\n",
       "      <td>10.422983</td>\n",
       "      <td>5.636023</td>\n",
       "    </tr>\n",
       "    <tr>\n",
       "      <td>std</td>\n",
       "      <td>1.741096</td>\n",
       "      <td>0.179060</td>\n",
       "      <td>0.194801</td>\n",
       "      <td>1.409928</td>\n",
       "      <td>0.047065</td>\n",
       "      <td>10.460157</td>\n",
       "      <td>32.895324</td>\n",
       "      <td>0.001887</td>\n",
       "      <td>0.154386</td>\n",
       "      <td>0.169507</td>\n",
       "      <td>1.065668</td>\n",
       "      <td>0.807569</td>\n",
       "    </tr>\n",
       "    <tr>\n",
       "      <td>min</td>\n",
       "      <td>4.600000</td>\n",
       "      <td>0.120000</td>\n",
       "      <td>0.000000</td>\n",
       "      <td>0.900000</td>\n",
       "      <td>0.012000</td>\n",
       "      <td>1.000000</td>\n",
       "      <td>6.000000</td>\n",
       "      <td>0.990070</td>\n",
       "      <td>2.740000</td>\n",
       "      <td>0.330000</td>\n",
       "      <td>8.400000</td>\n",
       "      <td>3.000000</td>\n",
       "    </tr>\n",
       "    <tr>\n",
       "      <td>25%</td>\n",
       "      <td>7.100000</td>\n",
       "      <td>0.390000</td>\n",
       "      <td>0.090000</td>\n",
       "      <td>1.900000</td>\n",
       "      <td>0.070000</td>\n",
       "      <td>7.000000</td>\n",
       "      <td>22.000000</td>\n",
       "      <td>0.995600</td>\n",
       "      <td>3.210000</td>\n",
       "      <td>0.550000</td>\n",
       "      <td>9.500000</td>\n",
       "      <td>5.000000</td>\n",
       "    </tr>\n",
       "    <tr>\n",
       "      <td>50%</td>\n",
       "      <td>7.900000</td>\n",
       "      <td>0.520000</td>\n",
       "      <td>0.260000</td>\n",
       "      <td>2.200000</td>\n",
       "      <td>0.079000</td>\n",
       "      <td>14.000000</td>\n",
       "      <td>38.000000</td>\n",
       "      <td>0.996750</td>\n",
       "      <td>3.310000</td>\n",
       "      <td>0.620000</td>\n",
       "      <td>10.200000</td>\n",
       "      <td>6.000000</td>\n",
       "    </tr>\n",
       "    <tr>\n",
       "      <td>75%</td>\n",
       "      <td>9.200000</td>\n",
       "      <td>0.640000</td>\n",
       "      <td>0.420000</td>\n",
       "      <td>2.600000</td>\n",
       "      <td>0.090000</td>\n",
       "      <td>21.000000</td>\n",
       "      <td>62.000000</td>\n",
       "      <td>0.997835</td>\n",
       "      <td>3.400000</td>\n",
       "      <td>0.730000</td>\n",
       "      <td>11.100000</td>\n",
       "      <td>6.000000</td>\n",
       "    </tr>\n",
       "    <tr>\n",
       "      <td>max</td>\n",
       "      <td>15.900000</td>\n",
       "      <td>1.580000</td>\n",
       "      <td>1.000000</td>\n",
       "      <td>15.500000</td>\n",
       "      <td>0.611000</td>\n",
       "      <td>72.000000</td>\n",
       "      <td>289.000000</td>\n",
       "      <td>1.003690</td>\n",
       "      <td>4.010000</td>\n",
       "      <td>2.000000</td>\n",
       "      <td>14.900000</td>\n",
       "      <td>8.000000</td>\n",
       "    </tr>\n",
       "  </tbody>\n",
       "</table>\n",
       "</div>"
      ],
      "text/plain": [
       "       fixedacidity  volatileacidity   citricacid  residualsugar    chlorides  \\\n",
       "count   1599.000000      1599.000000  1599.000000    1599.000000  1599.000000   \n",
       "mean       8.319637         0.527821     0.270976       2.538806     0.087467   \n",
       "std        1.741096         0.179060     0.194801       1.409928     0.047065   \n",
       "min        4.600000         0.120000     0.000000       0.900000     0.012000   \n",
       "25%        7.100000         0.390000     0.090000       1.900000     0.070000   \n",
       "50%        7.900000         0.520000     0.260000       2.200000     0.079000   \n",
       "75%        9.200000         0.640000     0.420000       2.600000     0.090000   \n",
       "max       15.900000         1.580000     1.000000      15.500000     0.611000   \n",
       "\n",
       "       freesulfurdioxide  totalsulfurdioxide      density           pH  \\\n",
       "count        1599.000000         1599.000000  1599.000000  1599.000000   \n",
       "mean           15.874922           46.467792     0.996747     3.311113   \n",
       "std            10.460157           32.895324     0.001887     0.154386   \n",
       "min             1.000000            6.000000     0.990070     2.740000   \n",
       "25%             7.000000           22.000000     0.995600     3.210000   \n",
       "50%            14.000000           38.000000     0.996750     3.310000   \n",
       "75%            21.000000           62.000000     0.997835     3.400000   \n",
       "max            72.000000          289.000000     1.003690     4.010000   \n",
       "\n",
       "         sulphates      alcohol      quality  \n",
       "count  1599.000000  1599.000000  1599.000000  \n",
       "mean      0.658149    10.422983     5.636023  \n",
       "std       0.169507     1.065668     0.807569  \n",
       "min       0.330000     8.400000     3.000000  \n",
       "25%       0.550000     9.500000     5.000000  \n",
       "50%       0.620000    10.200000     6.000000  \n",
       "75%       0.730000    11.100000     6.000000  \n",
       "max       2.000000    14.900000     8.000000  "
      ]
     },
     "execution_count": 7,
     "metadata": {},
     "output_type": "execute_result"
    }
   ],
   "source": [
    "df.describe()"
   ]
  },
  {
   "cell_type": "code",
   "execution_count": 41,
   "metadata": {},
   "outputs": [],
   "source": [
    "X=df[['fixedacidity', 'volatileacidity', 'citricacid', 'residualsugar','chlorides', 'freesulfurdioxide']]\n",
    "y=df['quality']"
   ]
  },
  {
   "cell_type": "code",
   "execution_count": 42,
   "metadata": {},
   "outputs": [],
   "source": [
    "from sklearn.model_selection import train_test_split\n",
    "X_train,X_test,y_train,y_test=train_test_split(X,y,test_size=0.3)"
   ]
  },
  {
   "cell_type": "code",
   "execution_count": 43,
   "metadata": {},
   "outputs": [],
   "source": [
    "from sklearn.preprocessing import StandardScaler\n",
    "sc=StandardScaler()\n",
    "X_train=sc.fit_transform(X_train)\n",
    "X_test=sc.fit_transform(X_test)"
   ]
  },
  {
   "cell_type": "code",
   "execution_count": 44,
   "metadata": {},
   "outputs": [
    {
     "data": {
      "text/plain": [
       "LogisticRegression()"
      ]
     },
     "execution_count": 44,
     "metadata": {},
     "output_type": "execute_result"
    }
   ],
   "source": [
    "from sklearn.linear_model import LogisticRegression\n",
    "model=LogisticRegression()\n",
    "model.fit(X_train,y_train)"
   ]
  },
  {
   "cell_type": "code",
   "execution_count": 45,
   "metadata": {},
   "outputs": [
    {
     "data": {
      "text/plain": [
       "0.46041666666666664"
      ]
     },
     "execution_count": 45,
     "metadata": {},
     "output_type": "execute_result"
    }
   ],
   "source": [
    "model.score(X_test,y_test)"
   ]
  },
  {
   "cell_type": "code",
   "execution_count": 46,
   "metadata": {},
   "outputs": [
    {
     "data": {
      "text/plain": [
       "array([5, 7, 6, 6, 6, 6, 5, 5, 5, 5, 5, 6, 6, 6, 6, 6, 5, 5, 6, 6, 5, 5,\n",
       "       5, 5, 5, 6, 5, 5, 6, 7, 5, 7, 5, 6, 5, 6, 6, 5, 5, 5, 6, 6, 6, 5,\n",
       "       5, 7, 5, 6, 6, 5, 6, 5, 6, 6, 5, 6, 5, 7, 5, 6, 6, 6, 6, 5, 5, 6,\n",
       "       5, 6, 5, 5, 5, 6, 6, 5, 6, 5, 5, 6, 6, 6, 6, 7, 5, 5, 5, 5, 5, 7,\n",
       "       6, 7, 5, 6, 6, 5, 6, 6, 5, 6, 6, 5, 6, 5, 6, 5, 5, 6, 5, 5, 5, 6,\n",
       "       5, 6, 5, 6, 5, 6, 5, 5, 6, 6, 6, 5, 5, 5, 5, 5, 6, 5, 5, 6, 6, 5,\n",
       "       6, 6, 6, 6, 5, 5, 6, 5, 6, 5, 5, 5, 5, 5, 6, 6, 6, 6, 5, 6, 6, 5,\n",
       "       6, 6, 5, 6, 5, 6, 6, 5, 6, 6, 5, 5, 5, 6, 6, 5, 6, 5, 5, 6, 5, 5,\n",
       "       6, 5, 6, 6, 5, 5, 5, 5, 5, 6, 5, 5, 5, 6, 6, 7, 5, 6, 5, 5, 5, 6,\n",
       "       6, 5, 6, 5, 6, 6, 6, 6, 6, 6, 5, 5, 7, 5, 5, 6, 5, 6, 6, 6, 5, 5,\n",
       "       6, 5, 6, 6, 5, 5, 5, 6, 3, 6, 5, 6, 7, 5, 5, 5, 6, 5, 5, 5, 7, 6,\n",
       "       5, 6, 5, 6, 5, 6, 6, 5, 6, 6, 5, 6, 5, 5, 5, 6, 5, 7, 6, 5, 5, 6,\n",
       "       6, 5, 5, 6, 6, 7, 6, 5, 6, 5, 6, 6, 6, 6, 5, 5, 6, 5, 5, 6, 6, 5,\n",
       "       6, 5, 6, 5, 6, 5, 6, 7, 5, 6, 6, 5, 5, 5, 6, 5, 5, 5, 6, 5, 5, 5,\n",
       "       5, 6, 6, 6, 6, 5, 5, 6, 5, 5, 7, 6, 6, 5, 6, 5, 5, 6, 6, 5, 5, 6,\n",
       "       6, 6, 5, 6, 5, 5, 5, 6, 5, 6, 5, 6, 6, 5, 6, 6, 6, 6, 5, 6, 5, 5,\n",
       "       6, 6, 5, 7, 6, 5, 6, 5, 6, 5, 5, 6, 6, 5, 6, 6, 5, 6, 6, 5, 6, 6,\n",
       "       6, 5, 5, 6, 5, 5, 6, 5, 5, 6, 5, 6, 6, 6, 5, 5, 5, 5, 5, 5, 6, 5,\n",
       "       6, 5, 5, 5, 5, 6, 6, 5, 6, 6, 6, 6, 6, 5, 5, 5, 6, 6, 5, 6, 5, 5,\n",
       "       5, 5, 5, 6, 6, 6, 5, 5, 7, 6, 6, 5, 5, 6, 5, 6, 5, 6, 6, 6, 5, 5,\n",
       "       5, 5, 6, 6, 5, 6, 6, 5, 5, 5, 5, 5, 6, 6, 7, 5, 6, 6, 5, 5, 5, 6,\n",
       "       6, 5, 6, 6, 5, 6, 5, 6, 5, 6, 6, 5, 5, 6, 5, 6, 5, 5], dtype=int64)"
      ]
     },
     "execution_count": 46,
     "metadata": {},
     "output_type": "execute_result"
    }
   ],
   "source": [
    "model.predict(X_test)"
   ]
  },
  {
   "cell_type": "code",
   "execution_count": 47,
   "metadata": {},
   "outputs": [],
   "source": [
    "y_predict=model.predict(X_test)"
   ]
  },
  {
   "cell_type": "code",
   "execution_count": 48,
   "metadata": {},
   "outputs": [
    {
     "data": {
      "text/plain": [
       "array([[  0,   0,   4,   0,   0,   0],\n",
       "       [  0,   0,  15,   5,   0,   0],\n",
       "       [  1,   0, 117,  70,   4,   0],\n",
       "       [  0,   0,  81,  98,   8,   0],\n",
       "       [  0,   0,  19,  42,   6,   0],\n",
       "       [  0,   0,   2,   7,   1,   0]], dtype=int64)"
      ]
     },
     "execution_count": 48,
     "metadata": {},
     "output_type": "execute_result"
    }
   ],
   "source": [
    "from sklearn.metrics import confusion_matrix\n",
    "cm=confusion_matrix(y_test,y_predict)\n",
    "cm"
   ]
  },
  {
   "cell_type": "code",
   "execution_count": 49,
   "metadata": {},
   "outputs": [
    {
     "data": {
      "text/plain": [
       "<matplotlib.axes._subplots.AxesSubplot at 0x7f2b3c82b0>"
      ]
     },
     "execution_count": 49,
     "metadata": {},
     "output_type": "execute_result"
    },
    {
     "data": {
      "image/png": "[encoded data removed]",
      "text/plain": [
       "<Figure size 432x288 with 2 Axes>"
      ]
     },
     "metadata": {
      "needs_background": "light"
     },
     "output_type": "display_data"
    }
   ],
   "source": [
    "sn.heatmap(cm,annot=True)"
   ]
  },
  {
   "cell_type": "code",
   "execution_count": 50,
   "metadata": {},
   "outputs": [
    {
     "data": {
      "text/plain": [
       "0.46041666666666664"
      ]
     },
     "execution_count": 50,
     "metadata": {},
     "output_type": "execute_result"
    }
   ],
   "source": [
    "from sklearn.metrics import f1_score\n",
    "score=f1_score(y_test,y_predict,average='micro')\n",
    "score"
   ]
  },
  {
   "cell_type": "code",
   "execution_count": 51,
   "metadata": {},
   "outputs": [
    {
     "name": "stdout",
     "output_type": "stream",
     "text": [
      "              precision    recall  f1-score   support\n",
      "\n",
      "           3       0.00      0.00      0.00         4\n",
      "           4       0.00      0.00      0.00        20\n",
      "           5       0.49      0.61      0.54       192\n",
      "           6       0.44      0.52      0.48       187\n",
      "           7       0.32      0.09      0.14        67\n",
      "           8       0.00      0.00      0.00        10\n",
      "\n",
      "    accuracy                           0.46       480\n",
      "   macro avg       0.21      0.20      0.19       480\n",
      "weighted avg       0.41      0.46      0.42       480\n",
      "\n"
     ]
    },
    {
     "name": "stderr",
     "output_type": "stream",
     "text": [
      "E:\\Anaconda\\lib\\site-packages\\sklearn\\metrics\\_classification.py:1221: UndefinedMetricWarning: Precision and F-score are ill-defined and being set to 0.0 in labels with no predicted samples. Use `zero_division` parameter to control this behavior.\n",
      "  _warn_prf(average, modifier, msg_start, len(result))\n"
     ]
    }
   ],
   "source": [
    "from sklearn.metrics import classification_report\n",
    "cl=classification_report(y_test,y_predict)\n",
    "print(cl)"
   ]
  },
  {
   "cell_type": "code",
   "execution_count": 52,
   "metadata": {},
   "outputs": [],
   "source": [
    "y_predict=model.predict(X_test)"
   ]
  },
  {
   "cell_type": "code",
   "execution_count": 53,
   "metadata": {},
   "outputs": [
    {
     "data": {
      "text/plain": [
       "array([[2.90577151e-02, 1.15852267e-01, 6.85051857e-01, 1.56577939e-01,\n",
       "        8.49292241e-03, 4.96729946e-03],\n",
       "       [1.67206812e-03, 2.38340420e-03, 1.75639090e-01, 3.62834918e-01,\n",
       "        4.40356163e-01, 1.71143558e-02],\n",
       "       [1.98135376e-04, 1.24030618e-02, 3.49227097e-01, 4.54638757e-01,\n",
       "        1.71379877e-01, 1.21530721e-02],\n",
       "       ...,\n",
       "       [1.18260727e-05, 5.78673345e-03, 2.68184263e-01, 5.41353815e-01,\n",
       "        1.77281601e-01, 7.38176138e-03],\n",
       "       [2.13374084e-04, 2.35201318e-02, 6.12245724e-01, 3.39868566e-01,\n",
       "        2.22716824e-02, 1.88052189e-03],\n",
       "       [8.02435068e-04, 2.95226812e-02, 4.99153231e-01, 4.38871093e-01,\n",
       "        2.92457306e-02, 2.40482963e-03]])"
      ]
     },
     "execution_count": 53,
     "metadata": {},
     "output_type": "execute_result"
    }
   ],
   "source": [
    "y_predict=model.predict_proba(X_test)\n",
    "y_predict"
   ]
  },
  {
   "cell_type": "code",
   "execution_count": 54,
   "metadata": {},
   "outputs": [
    {
     "data": {
      "text/plain": [
       "array([0.11585227, 0.0023834 , 0.01240306, 0.00432688, 0.00586042,\n",
       "       0.01023676, 0.02233015, 0.0577752 , 0.04368254, 0.0230565 ,\n",
       "       0.01525193, 0.01598981, 0.0082124 , 0.00327827, 0.02078604,\n",
       "       0.01438879, 0.02151587, 0.03917673, 0.00611423, 0.00733231,\n",
       "       0.04877137, 0.01303284, 0.05197612, 0.01096533, 0.02313022,\n",
       "       0.01403099, 0.06803679, 0.02322884, 0.02023606, 0.00532907,\n",
       "       0.03246869, 0.00256255, 0.05612826, 0.0082124 , 0.23347855,\n",
       "       0.02864765, 0.02480095, 0.03263452, 0.05055036, 0.01975027,\n",
       "       0.00372861, 0.00614055, 0.00400548, 0.02423733, 0.1630453 ,\n",
       "       0.02908905, 0.02469464, 0.02042998, 0.00952063, 0.01434296,\n",
       "       0.01291289, 0.01451578, 0.00768447, 0.01663293, 0.05543703,\n",
       "       0.01421399, 0.06362572, 0.00066954, 0.01900472, 0.00553859,\n",
       "       0.00923295, 0.00306159, 0.00362156, 0.03482008, 0.06401481,\n",
       "       0.02073037, 0.01406878, 0.01015663, 0.03222912, 0.00745281,\n",
       "       0.04131993, 0.00999893, 0.0214408 , 0.02686769, 0.01238998,\n",
       "       0.04386498, 0.00576985, 0.02601909, 0.01331247, 0.02522624,\n",
       "       0.00907605, 0.0031898 , 0.04527457, 0.01999378, 0.02060683,\n",
       "       0.01662921, 0.07041076, 0.02908905, 0.01719087, 0.00298215,\n",
       "       0.06110401, 0.01163836, 0.01721364, 0.01171422, 0.00915463,\n",
       "       0.01926653, 0.0203652 , 0.02123758, 0.01556905, 0.09259007,\n",
       "       0.01227613, 0.05740325, 0.01999959, 0.03821803, 0.04079896,\n",
       "       0.01308955, 0.05933066, 0.04788717, 0.05482048, 0.00397428,\n",
       "       0.05838452, 0.00425249, 0.08177531, 0.00408779, 0.01273478,\n",
       "       0.01238998, 0.0230565 , 0.04220286, 0.00792808, 0.02324351,\n",
       "       0.00566087, 0.02091984, 0.03722521, 0.05927772, 0.0153824 ,\n",
       "       0.03232145, 0.01295498, 0.00786014, 0.03153884, 0.01209688,\n",
       "       0.015568  , 0.02630939, 0.00816828, 0.00762386, 0.00677184,\n",
       "       0.01244653, 0.03855973, 0.02054251, 0.00688189, 0.00717784,\n",
       "       0.03580211, 0.02178503, 0.13229965, 0.12062301, 0.03341339,\n",
       "       0.0205838 , 0.02517856, 0.0217977 , 0.00353517, 0.00816408,\n",
       "       0.03067932, 0.00662175, 0.00902548, 0.00860717, 0.00970159,\n",
       "       0.00480726, 0.02520111, 0.01619636, 0.137386  , 0.02177862,\n",
       "       0.00632082, 0.02493226, 0.02177862, 0.00530878, 0.0352936 ,\n",
       "       0.029816  , 0.04655413, 0.0052734 , 0.02365814, 0.14101458,\n",
       "       0.00126584, 0.02629453, 0.03515312, 0.01364893, 0.0259913 ,\n",
       "       0.02258231, 0.01281467, 0.08665019, 0.01530447, 0.00935431,\n",
       "       0.03598296, 0.02146661, 0.1417044 , 0.06461096, 0.06427939,\n",
       "       0.01295108, 0.08716202, 0.09672844, 0.03189957, 0.0131222 ,\n",
       "       0.00968554, 0.00366184, 0.03746558, 0.00677184, 0.1954542 ,\n",
       "       0.01595698, 0.0565779 , 0.00498764, 0.01582988, 0.02380324,\n",
       "       0.02423548, 0.13940637, 0.01953298, 0.01141649, 0.06290202,\n",
       "       0.00734654, 0.00838765, 0.00751315, 0.0443617 , 0.02244975,\n",
       "       0.00324911, 0.09472172, 0.02402259, 0.01485186, 0.02112069,\n",
       "       0.01315268, 0.00819746, 0.00701708, 0.0036621 , 0.01555048,\n",
       "       0.00488642, 0.12036489, 0.00637877, 0.00861501, 0.04283333,\n",
       "       0.03592424, 0.04303227, 0.01434285, 0.17798338, 0.01843084,\n",
       "       0.0620189 , 0.01294523, 0.00661191, 0.06544081, 0.01084443,\n",
       "       0.03495811, 0.00340344, 0.03766465, 0.03684973, 0.04079896,\n",
       "       0.00233193, 0.00786159, 0.04136321, 0.01374708, 0.04099137,\n",
       "       0.02619167, 0.05784462, 0.00650064, 0.00591677, 0.03945552,\n",
       "       0.01544067, 0.0125825 , 0.01625938, 0.03401079, 0.0036621 ,\n",
       "       0.03559907, 0.01015157, 0.01479993, 0.05149816, 0.00287111,\n",
       "       0.01927885, 0.01355605, 0.04611237, 0.01841774, 0.00918409,\n",
       "       0.02244975, 0.0528381 , 0.00996864, 0.01294549, 0.00357779,\n",
       "       0.01700749, 0.02279608, 0.00927125, 0.05698923, 0.02142755,\n",
       "       0.00933855, 0.00965201, 0.00935431, 0.09158599, 0.08921175,\n",
       "       0.0140712 , 0.02937392, 0.03904303, 0.02195237, 0.00711385,\n",
       "       0.1073475 , 0.00340051, 0.09664238, 0.02803327, 0.10673482,\n",
       "       0.01541961, 0.02630939, 0.00787782, 0.00108278, 0.02722246,\n",
       "       0.00885062, 0.0053933 , 0.02335339, 0.01627524, 0.06072757,\n",
       "       0.00751871, 0.02693397, 0.08606711, 0.03114108, 0.00499447,\n",
       "       0.05248463, 0.06747138, 0.08104386, 0.05101988, 0.00865984,\n",
       "       0.00343589, 0.01262493, 0.00467349, 0.05274247, 0.04736445,\n",
       "       0.00407076, 0.02342607, 0.01508771, 0.0013414 , 0.02824685,\n",
       "       0.00297227, 0.01602383, 0.05044236, 0.08799693, 0.02684722,\n",
       "       0.02461155, 0.02223428, 0.04978553, 0.03566037, 0.01374708,\n",
       "       0.05044236, 0.02081045, 0.06001602, 0.0201713 , 0.01513194,\n",
       "       0.08188806, 0.03848327, 0.02075304, 0.04155174, 0.0321845 ,\n",
       "       0.02474889, 0.00620556, 0.01332746, 0.02493226, 0.00480387,\n",
       "       0.03080282, 0.01598981, 0.00128749, 0.05230912, 0.00765793,\n",
       "       0.0306087 , 0.03491655, 0.00792247, 0.00928124, 0.02279608,\n",
       "       0.00486541, 0.00768275, 0.0296395 , 0.0042426 , 0.06803679,\n",
       "       0.01667818, 0.04073311, 0.03405068, 0.01317716, 0.03757613,\n",
       "       0.03231726, 0.00235667, 0.0093114 , 0.02744224, 0.01937871,\n",
       "       0.00277294, 0.03570424, 0.00291917, 0.00835172, 0.00866483,\n",
       "       0.00798591, 0.03418892, 0.03684161, 0.08177531, 0.06333952,\n",
       "       0.00619778, 0.03116955, 0.05912363, 0.00323821, 0.07419065,\n",
       "       0.02614743, 0.02083639, 0.01522383, 0.05596796, 0.00771487,\n",
       "       0.09882198, 0.10881819, 0.03263858, 0.01328109, 0.01136977,\n",
       "       0.05066179, 0.01093584, 0.04052707, 0.04386498, 0.08665687,\n",
       "       0.02829939, 0.00688189, 0.03650947, 0.13587627, 0.06290202,\n",
       "       0.00956996, 0.01980806, 0.03106917, 0.0059318 , 0.01318967,\n",
       "       0.03344056, 0.00837619, 0.00864198, 0.02757806, 0.028365  ,\n",
       "       0.02964989, 0.03829421, 0.00398546, 0.0636221 , 0.10359919,\n",
       "       0.04094181, 0.01932161, 0.00956996, 0.00386586, 0.02986396,\n",
       "       0.10406619, 0.00520005, 0.00495026, 0.01701062, 0.02805469,\n",
       "       0.04533863, 0.00750307, 0.04606441, 0.01148328, 0.08686509,\n",
       "       0.00597228, 0.00702974, 0.02541447, 0.03125007, 0.03852173,\n",
       "       0.01818775, 0.02204342, 0.03559797, 0.02449887, 0.01529692,\n",
       "       0.00792038, 0.00999674, 0.01662921, 0.08723473, 0.00839733,\n",
       "       0.04524631, 0.02033785, 0.01527193, 0.01283545, 0.00244485,\n",
       "       0.14413103, 0.01360394, 0.00921507, 0.0648552 , 0.00618859,\n",
       "       0.04048942, 0.00850035, 0.01306015, 0.07134157, 0.0116917 ,\n",
       "       0.00786653, 0.11791216, 0.01243099, 0.04479581, 0.02504998,\n",
       "       0.02233015, 0.01101772, 0.00726151, 0.01961035, 0.03029613,\n",
       "       0.00827129, 0.00609903, 0.00578673, 0.02352013, 0.02952268])"
      ]
     },
     "execution_count": 54,
     "metadata": {},
     "output_type": "execute_result"
    }
   ],
   "source": [
    "proba=y_predict[::,1]\n",
    "proba"
   ]
  },
  {
   "cell_type": "code",
   "execution_count": 55,
   "metadata": {},
   "outputs": [],
   "source": [
    "pickle.dump(model, open('model000.pkl','wb'))\n",
    "\n",
    "# Loading model to compare the results\n",
    "model = pickle.load(open('model000.pkl','rb'))"
   ]
  },
  {
   "cell_type": "code",
   "execution_count": null,
   "metadata": {},
   "outputs": [],
   "source": []
  },
  {
   "cell_type": "code",
   "execution_count": null,
   "metadata": {},
   "outputs": [],
   "source": []
  },
  {
   "cell_type": "code",
   "execution_count": null,
   "metadata": {},
   "outputs": [],
   "source": []
  }
 ],
 "metadata": {
  "kernelspec": {
   "display_name": "Python 3",
   "language": "python",
   "name": "python3"
  },
  "language_info": {
   "codemirror_mode": {
    "name": "ipython",
    "version": 3
   },
   "file_extension": ".py",
   "mimetype": "text/x-python",
   "name": "python",
   "nbconvert_exporter": "python",
   "pygments_lexer": "ipython3",
   "version": "3.7.3"
  }
 },
 "nbformat": 4,
 "nbformat_minor": 2
}
